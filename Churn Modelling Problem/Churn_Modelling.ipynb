{
 "cells": [
  {
   "cell_type": "code",
   "execution_count": 1,
   "metadata": {},
   "outputs": [
    {
     "name": "stderr",
     "output_type": "stream",
     "text": [
      "Using TensorFlow backend.\n",
      "/usr/local/lib/python3.5/dist-packages/requests/__init__.py:80: RequestsDependencyWarning: urllib3 (1.13.1) or chardet (3.0.4) doesn't match a supported version!\n",
      "  RequestsDependencyWarning)\n"
     ]
    }
   ],
   "source": [
    "import numpy as np\n",
    "import matplotlib.pyplot as plt\n",
    "import pandas as pd\n",
    "import keras\n",
    "from keras.models import Sequential\n",
    "from keras.layers import Dense"
   ]
  },
  {
   "cell_type": "code",
   "execution_count": 2,
   "metadata": {
    "collapsed": true
   },
   "outputs": [],
   "source": [
    "dataset = pd.read_csv('Churn_Modelling.csv')\n",
    "X = dataset.iloc[:, 3:13].values\n",
    "y = dataset.iloc[:, 13].values"
   ]
  },
  {
   "cell_type": "code",
   "execution_count": 3,
   "metadata": {
    "collapsed": true
   },
   "outputs": [],
   "source": [
    "from sklearn.preprocessing import LabelEncoder, OneHotEncoder\n",
    "labelencoder_X_1 = LabelEncoder()\n",
    "X[:, 1] = labelencoder_X_1.fit_transform(X[:, 1])\n",
    "labelencoder_X_2 = LabelEncoder()\n",
    "X[:, 2] = labelencoder_X_2.fit_transform(X[:, 2])\n",
    "onehotencoder = OneHotEncoder(categorical_features = [1])\n",
    "X = onehotencoder.fit_transform(X).toarray()\n",
    "X = X[:, 1:]"
   ]
  },
  {
   "cell_type": "code",
   "execution_count": 4,
   "metadata": {
    "collapsed": true
   },
   "outputs": [],
   "source": [
    "from sklearn.model_selection import train_test_split\n",
    "X_train, X_test, y_train, y_test = train_test_split(X, y, test_size = 0.2, random_state = 0)"
   ]
  },
  {
   "cell_type": "code",
   "execution_count": 5,
   "metadata": {
    "collapsed": true
   },
   "outputs": [],
   "source": [
    "from sklearn.preprocessing import StandardScaler\n",
    "sc = StandardScaler()\n",
    "X_train = sc.fit_transform(X_train)\n",
    "X_test = sc.transform(X_test)"
   ]
  },
  {
   "cell_type": "code",
   "execution_count": 6,
   "metadata": {},
   "outputs": [
    {
     "name": "stdout",
     "output_type": "stream",
     "text": [
      "Epoch 1/100\n",
      "8000/8000 [==============================] - 2s 228us/step - loss: 0.4956 - acc: 0.7956\n",
      "Epoch 2/100\n",
      "8000/8000 [==============================] - 1s 110us/step - loss: 0.4297 - acc: 0.7960\n",
      "Epoch 3/100\n",
      "8000/8000 [==============================] - 1s 111us/step - loss: 0.4249 - acc: 0.7960\n",
      "Epoch 4/100\n",
      "8000/8000 [==============================] - 1s 109us/step - loss: 0.4210 - acc: 0.7995\n",
      "Epoch 5/100\n",
      "8000/8000 [==============================] - 1s 108us/step - loss: 0.4182 - acc: 0.8230\n",
      "Epoch 6/100\n",
      "8000/8000 [==============================] - 1s 108us/step - loss: 0.4159 - acc: 0.8262\n",
      "Epoch 7/100\n",
      "8000/8000 [==============================] - 1s 110us/step - loss: 0.4144 - acc: 0.8304\n",
      "Epoch 8/100\n",
      "8000/8000 [==============================] - 1s 109us/step - loss: 0.4129 - acc: 0.8317\n",
      "Epoch 9/100\n",
      "8000/8000 [==============================] - 1s 110us/step - loss: 0.4117 - acc: 0.8316\n",
      "Epoch 10/100\n",
      "8000/8000 [==============================] - 1s 110us/step - loss: 0.4107 - acc: 0.8322\n",
      "Epoch 11/100\n",
      "8000/8000 [==============================] - 1s 112us/step - loss: 0.4105 - acc: 0.8347\n",
      "Epoch 12/100\n",
      "8000/8000 [==============================] - 1s 115us/step - loss: 0.4097 - acc: 0.8336\n",
      "Epoch 13/100\n",
      "8000/8000 [==============================] - 1s 124us/step - loss: 0.4091 - acc: 0.8336\n",
      "Epoch 14/100\n",
      "8000/8000 [==============================] - 1s 114us/step - loss: 0.4086 - acc: 0.8332\n",
      "Epoch 15/100\n",
      "8000/8000 [==============================] - 1s 113us/step - loss: 0.4084 - acc: 0.8332\n",
      "Epoch 16/100\n",
      "8000/8000 [==============================] - 1s 119us/step - loss: 0.4073 - acc: 0.8334 1s - loss: 0.4\n",
      "Epoch 17/100\n",
      "8000/8000 [==============================] - 1s 112us/step - loss: 0.4073 - acc: 0.8335\n",
      "Epoch 18/100\n",
      "8000/8000 [==============================] - 1s 113us/step - loss: 0.4065 - acc: 0.8344\n",
      "Epoch 19/100\n",
      "8000/8000 [==============================] - 1s 112us/step - loss: 0.4066 - acc: 0.8347\n",
      "Epoch 20/100\n",
      "8000/8000 [==============================] - 1s 113us/step - loss: 0.4059 - acc: 0.8322\n",
      "Epoch 21/100\n",
      "8000/8000 [==============================] - 1s 114us/step - loss: 0.4057 - acc: 0.8347\n",
      "Epoch 22/100\n",
      "8000/8000 [==============================] - 1s 113us/step - loss: 0.4055 - acc: 0.8340\n",
      "Epoch 23/100\n",
      "8000/8000 [==============================] - 1s 117us/step - loss: 0.4049 - acc: 0.8342\n",
      "Epoch 24/100\n",
      "8000/8000 [==============================] - 1s 127us/step - loss: 0.4044 - acc: 0.8337\n",
      "Epoch 25/100\n",
      "8000/8000 [==============================] - 1s 112us/step - loss: 0.4043 - acc: 0.8347\n",
      "Epoch 26/100\n",
      "8000/8000 [==============================] - 1s 115us/step - loss: 0.4042 - acc: 0.8344\n",
      "Epoch 27/100\n",
      "8000/8000 [==============================] - 1s 113us/step - loss: 0.4039 - acc: 0.8339\n",
      "Epoch 28/100\n",
      "8000/8000 [==============================] - 1s 129us/step - loss: 0.4039 - acc: 0.8340\n",
      "Epoch 29/100\n",
      "8000/8000 [==============================] - 1s 118us/step - loss: 0.4035 - acc: 0.8352\n",
      "Epoch 30/100\n",
      "8000/8000 [==============================] - 1s 115us/step - loss: 0.4031 - acc: 0.8352\n",
      "Epoch 31/100\n",
      "8000/8000 [==============================] - 1s 115us/step - loss: 0.4032 - acc: 0.8351\n",
      "Epoch 32/100\n",
      "8000/8000 [==============================] - 1s 132us/step - loss: 0.4030 - acc: 0.8352\n",
      "Epoch 33/100\n",
      "8000/8000 [==============================] - 1s 116us/step - loss: 0.4031 - acc: 0.8337\n",
      "Epoch 34/100\n",
      "8000/8000 [==============================] - 1s 114us/step - loss: 0.4023 - acc: 0.8350\n",
      "Epoch 35/100\n",
      "8000/8000 [==============================] - 1s 143us/step - loss: 0.4025 - acc: 0.8336\n",
      "Epoch 36/100\n",
      "8000/8000 [==============================] - 1s 125us/step - loss: 0.4028 - acc: 0.8362\n",
      "Epoch 37/100\n",
      "8000/8000 [==============================] - 1s 142us/step - loss: 0.4025 - acc: 0.8354\n",
      "Epoch 38/100\n",
      "8000/8000 [==============================] - 1s 117us/step - loss: 0.4026 - acc: 0.8339\n",
      "Epoch 39/100\n",
      "8000/8000 [==============================] - 1s 121us/step - loss: 0.4028 - acc: 0.8352\n",
      "Epoch 40/100\n",
      "8000/8000 [==============================] - 1s 123us/step - loss: 0.4022 - acc: 0.8347\n",
      "Epoch 41/100\n",
      "8000/8000 [==============================] - 1s 126us/step - loss: 0.4023 - acc: 0.8346\n",
      "Epoch 42/100\n",
      "8000/8000 [==============================] - 1s 125us/step - loss: 0.4024 - acc: 0.8335\n",
      "Epoch 43/100\n",
      "8000/8000 [==============================] - 1s 124us/step - loss: 0.4018 - acc: 0.8342\n",
      "Epoch 44/100\n",
      "8000/8000 [==============================] - 1s 137us/step - loss: 0.4019 - acc: 0.8337\n",
      "Epoch 45/100\n",
      "8000/8000 [==============================] - 1s 116us/step - loss: 0.4024 - acc: 0.8344\n",
      "Epoch 46/100\n",
      "8000/8000 [==============================] - 1s 117us/step - loss: 0.4020 - acc: 0.8352\n",
      "Epoch 47/100\n",
      "8000/8000 [==============================] - 1s 113us/step - loss: 0.4021 - acc: 0.8347\n",
      "Epoch 48/100\n",
      "8000/8000 [==============================] - 1s 119us/step - loss: 0.4022 - acc: 0.8335\n",
      "Epoch 49/100\n",
      "8000/8000 [==============================] - 1s 113us/step - loss: 0.4019 - acc: 0.8335\n",
      "Epoch 50/100\n",
      "8000/8000 [==============================] - 1s 116us/step - loss: 0.4016 - acc: 0.8364\n",
      "Epoch 51/100\n",
      "8000/8000 [==============================] - 1s 115us/step - loss: 0.4021 - acc: 0.8322\n",
      "Epoch 52/100\n",
      "8000/8000 [==============================] - 1s 118us/step - loss: 0.4021 - acc: 0.8336\n",
      "Epoch 53/100\n",
      "8000/8000 [==============================] - 1s 107us/step - loss: 0.4015 - acc: 0.8351\n",
      "Epoch 54/100\n",
      "8000/8000 [==============================] - 1s 111us/step - loss: 0.4021 - acc: 0.8345\n",
      "Epoch 55/100\n",
      "8000/8000 [==============================] - 1s 107us/step - loss: 0.4019 - acc: 0.8342\n",
      "Epoch 56/100\n",
      "8000/8000 [==============================] - 1s 108us/step - loss: 0.4017 - acc: 0.8339\n",
      "Epoch 57/100\n",
      "8000/8000 [==============================] - 1s 105us/step - loss: 0.4018 - acc: 0.8340\n",
      "Epoch 58/100\n",
      "8000/8000 [==============================] - 1s 108us/step - loss: 0.4018 - acc: 0.8345\n",
      "Epoch 59/100\n",
      "8000/8000 [==============================] - 1s 107us/step - loss: 0.4018 - acc: 0.8337\n",
      "Epoch 60/100\n",
      "8000/8000 [==============================] - 1s 107us/step - loss: 0.4016 - acc: 0.8336\n",
      "Epoch 61/100\n",
      "8000/8000 [==============================] - 1s 112us/step - loss: 0.4017 - acc: 0.8340\n",
      "Epoch 62/100\n",
      "8000/8000 [==============================] - 1s 114us/step - loss: 0.4019 - acc: 0.8337\n",
      "Epoch 63/100\n",
      "8000/8000 [==============================] - 1s 110us/step - loss: 0.4019 - acc: 0.8347\n",
      "Epoch 64/100\n",
      "8000/8000 [==============================] - 1s 114us/step - loss: 0.4012 - acc: 0.8355\n",
      "Epoch 65/100\n",
      "8000/8000 [==============================] - 1s 111us/step - loss: 0.4013 - acc: 0.8350\n",
      "Epoch 66/100\n",
      "8000/8000 [==============================] - 1s 107us/step - loss: 0.4017 - acc: 0.8336\n",
      "Epoch 67/100\n",
      "8000/8000 [==============================] - 1s 110us/step - loss: 0.4016 - acc: 0.8339\n",
      "Epoch 68/100\n",
      "8000/8000 [==============================] - 1s 111us/step - loss: 0.4018 - acc: 0.8349\n",
      "Epoch 69/100\n",
      "8000/8000 [==============================] - 1s 109us/step - loss: 0.4015 - acc: 0.8341\n",
      "Epoch 70/100\n",
      "8000/8000 [==============================] - 1s 115us/step - loss: 0.4018 - acc: 0.8334\n",
      "Epoch 71/100\n",
      "8000/8000 [==============================] - 1s 113us/step - loss: 0.4017 - acc: 0.8337\n",
      "Epoch 72/100\n",
      "8000/8000 [==============================] - 1s 107us/step - loss: 0.4018 - acc: 0.8350\n",
      "Epoch 73/100\n",
      "8000/8000 [==============================] - 1s 111us/step - loss: 0.4012 - acc: 0.8341\n",
      "Epoch 74/100\n",
      "8000/8000 [==============================] - 1s 109us/step - loss: 0.4016 - acc: 0.8354\n",
      "Epoch 75/100\n",
      "8000/8000 [==============================] - 1s 108us/step - loss: 0.4013 - acc: 0.8344\n",
      "Epoch 76/100\n",
      "8000/8000 [==============================] - 1s 107us/step - loss: 0.4014 - acc: 0.8342\n",
      "Epoch 77/100\n",
      "8000/8000 [==============================] - 1s 108us/step - loss: 0.4014 - acc: 0.8342\n",
      "Epoch 78/100\n",
      "8000/8000 [==============================] - 1s 107us/step - loss: 0.4018 - acc: 0.8341\n",
      "Epoch 79/100\n",
      "8000/8000 [==============================] - 1s 107us/step - loss: 0.4014 - acc: 0.8347\n",
      "Epoch 80/100\n",
      "8000/8000 [==============================] - 1s 106us/step - loss: 0.4015 - acc: 0.8336\n",
      "Epoch 81/100\n",
      "8000/8000 [==============================] - 1s 110us/step - loss: 0.4014 - acc: 0.8344\n",
      "Epoch 82/100\n"
     ]
    },
    {
     "name": "stdout",
     "output_type": "stream",
     "text": [
      "8000/8000 [==============================] - 1s 105us/step - loss: 0.4010 - acc: 0.8355\n",
      "Epoch 83/100\n",
      "8000/8000 [==============================] - 1s 104us/step - loss: 0.4015 - acc: 0.8342\n",
      "Epoch 84/100\n",
      "8000/8000 [==============================] - 1s 106us/step - loss: 0.4018 - acc: 0.8354\n",
      "Epoch 85/100\n",
      "8000/8000 [==============================] - 1s 105us/step - loss: 0.4012 - acc: 0.8346\n",
      "Epoch 86/100\n",
      "8000/8000 [==============================] - 1s 104us/step - loss: 0.4012 - acc: 0.8342\n",
      "Epoch 87/100\n",
      "8000/8000 [==============================] - 1s 104us/step - loss: 0.4014 - acc: 0.8342\n",
      "Epoch 88/100\n",
      "8000/8000 [==============================] - 1s 102us/step - loss: 0.4012 - acc: 0.8337\n",
      "Epoch 89/100\n",
      "8000/8000 [==============================] - 1s 104us/step - loss: 0.4017 - acc: 0.8340\n",
      "Epoch 90/100\n",
      "8000/8000 [==============================] - 1s 103us/step - loss: 0.4007 - acc: 0.8346\n",
      "Epoch 91/100\n",
      "8000/8000 [==============================] - 1s 105us/step - loss: 0.4013 - acc: 0.8339\n",
      "Epoch 92/100\n",
      "8000/8000 [==============================] - 1s 105us/step - loss: 0.4015 - acc: 0.8336\n",
      "Epoch 93/100\n",
      "8000/8000 [==============================] - 1s 105us/step - loss: 0.4015 - acc: 0.8351\n",
      "Epoch 94/100\n",
      "8000/8000 [==============================] - 1s 106us/step - loss: 0.4013 - acc: 0.8350\n",
      "Epoch 95/100\n",
      "8000/8000 [==============================] - 1s 105us/step - loss: 0.4011 - acc: 0.8339\n",
      "Epoch 96/100\n",
      "8000/8000 [==============================] - 1s 104us/step - loss: 0.4014 - acc: 0.8336\n",
      "Epoch 97/100\n",
      "8000/8000 [==============================] - 1s 107us/step - loss: 0.4014 - acc: 0.8345\n",
      "Epoch 98/100\n",
      "8000/8000 [==============================] - 1s 105us/step - loss: 0.4013 - acc: 0.8344\n",
      "Epoch 99/100\n",
      "8000/8000 [==============================] - 1s 104us/step - loss: 0.4017 - acc: 0.8336\n",
      "Epoch 100/100\n",
      "8000/8000 [==============================] - 1s 105us/step - loss: 0.4013 - acc: 0.8339\n"
     ]
    },
    {
     "data": {
      "text/plain": [
       "<keras.callbacks.History at 0x7f66e9e3ad68>"
      ]
     },
     "execution_count": 6,
     "metadata": {},
     "output_type": "execute_result"
    }
   ],
   "source": [
    "classifier = Sequential()\n",
    "\n",
    "classifier.add(Dense(units = 6, kernel_initializer = 'uniform', activation = 'relu', input_dim = 11))\n",
    "\n",
    "classifier.add(Dense(units = 6, kernel_initializer = 'uniform', activation = 'relu'))\n",
    "\n",
    "classifier.add(Dense(units = 1, kernel_initializer = 'uniform', activation = 'sigmoid'))\n",
    "\n",
    "classifier.compile(optimizer = 'adam', loss = 'binary_crossentropy', metrics = ['accuracy'])\n",
    "\n",
    "classifier.fit(X_train, y_train, batch_size = 10, epochs = 100)"
   ]
  },
  {
   "cell_type": "code",
   "execution_count": 12,
   "metadata": {},
   "outputs": [],
   "source": [
    "y_pred = classifier.predict(X_test)\n",
    "y_pred = (y_pred > 0.5)\n",
    "\n",
    "from sklearn.metrics import confusion_matrix\n",
    "cm = confusion_matrix(y_test, y_pred)"
   ]
  },
  {
   "cell_type": "code",
   "execution_count": 13,
   "metadata": {},
   "outputs": [
    {
     "data": {
      "text/plain": [
       "array([[1548,   47],\n",
       "       [ 270,  135]])"
      ]
     },
     "execution_count": 13,
     "metadata": {},
     "output_type": "execute_result"
    }
   ],
   "source": [
    "cm"
   ]
  },
  {
   "cell_type": "code",
   "execution_count": 8,
   "metadata": {
    "collapsed": true
   },
   "outputs": [],
   "source": [
    "test_pred=classifier.predict(sc.transform(np.array([[0.0, 0, 600, 1, 40, 3, 60000, 2, 1, 1, 50000]])))\n",
    "test_pred = (test_pred > 0.5)"
   ]
  },
  {
   "cell_type": "code",
   "execution_count": 9,
   "metadata": {},
   "outputs": [
    {
     "data": {
      "text/plain": [
       "array([[False]], dtype=bool)"
      ]
     },
     "execution_count": 9,
     "metadata": {},
     "output_type": "execute_result"
    }
   ],
   "source": [
    "test_pred"
   ]
  },
  {
   "cell_type": "code",
   "execution_count": null,
   "metadata": {
    "collapsed": true
   },
   "outputs": [],
   "source": []
  }
 ],
 "metadata": {
  "kernelspec": {
   "display_name": "Python 3",
   "language": "python",
   "name": "python3"
  },
  "language_info": {
   "codemirror_mode": {
    "name": "ipython",
    "version": 3
   },
   "file_extension": ".py",
   "mimetype": "text/x-python",
   "name": "python",
   "nbconvert_exporter": "python",
   "pygments_lexer": "ipython3",
   "version": "3.5.2"
  }
 },
 "nbformat": 4,
 "nbformat_minor": 2
}
